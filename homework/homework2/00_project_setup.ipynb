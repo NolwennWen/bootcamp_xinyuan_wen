{
 "cells": [
  {
   "cell_type": "code",
   "execution_count": 2,
   "id": "ccde8b86-1246-4f0c-9054-bc29689c9f56",
   "metadata": {},
   "outputs": [
    {
     "name": "stdout",
     "output_type": "stream",
     "text": [
      "API_KEY present: True\n",
      "NumPy array multiplied by 2: [2 4 6]\n"
     ]
    }
   ],
   "source": [
    "from dotenv import load_dotenv\n",
    "import os\n",
    "import numpy as np\n",
    "\n",
    "dotenv_path = os.path.join(os.getcwd(), \".env\")\n",
    "\n",
    "load_dotenv(dotenv_path)\n",
    "\n",
    "api_key = os.getenv(\"API_KEY\")\n",
    "print(\"API_KEY present:\", api_key is not None)\n",
    "\n",
    "arr = np.array([1, 2, 3])\n",
    "print(\"NumPy array multiplied by 2:\", arr*2)"
   ]
  },
  {
   "cell_type": "code",
   "execution_count": null,
   "id": "b76cd284-ee3e-4b37-b9e8-ffd43c9f4e50",
   "metadata": {},
   "outputs": [],
   "source": []
  },
  {
   "cell_type": "code",
   "execution_count": null,
   "id": "b6090d9b-3f16-4339-a245-dc69cc91329a",
   "metadata": {},
   "outputs": [],
   "source": []
  }
 ],
 "metadata": {
  "kernelspec": {
   "display_name": "Python 3 (ipykernel)",
   "language": "python",
   "name": "python3"
  },
  "language_info": {
   "codemirror_mode": {
    "name": "ipython",
    "version": 3
   },
   "file_extension": ".py",
   "mimetype": "text/x-python",
   "name": "python",
   "nbconvert_exporter": "python",
   "pygments_lexer": "ipython3",
   "version": "3.13.5"
  }
 },
 "nbformat": 4,
 "nbformat_minor": 5
}
