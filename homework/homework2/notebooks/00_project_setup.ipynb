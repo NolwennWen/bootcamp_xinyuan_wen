{
 "cells": [
  {
   "cell_type": "markdown",
   "metadata": {},
   "source": [
    "# Environment & Config Check\n",
    "This notebook verifies the Python environment, loads the .env file, and runs a small NumPy demo."
   ]
  },
  {
   "cell_type": "code",
   "metadata": {},
   "source": [
    "from dotenv import load_dotenv\n",
    "import os\n",
    "import numpy as np\n",
    "\n",
    "load_dotenv()\n",
    "api_key = os.getenv(\"API_KEY\")\n",
    "print(\"API_KEY present:\", api_key is not None)\n",
    "\n",
    "arr = np.array([1, 2, 3])\n",
    "print(\"NumPy array multiplied by 2:\", arr * 2)"
   ],
   "outputs": [],
   "execution_count": null
  }
 ],
 "metadata": {},
 "nbformat": 4,
 "nbformat_minor": 5
}
