{
 "cells": [
  {
   "cell_type": "code",
   "execution_count": 1,
   "id": "e6b0733c-c009-4343-ab3f-7ee5aa46e026",
   "metadata": {},
   "outputs": [
    {
     "name": "stdout",
     "output_type": "stream",
     "text": [
      "Hello, Bootcamp!\n"
     ]
    }
   ],
   "source": [
    "print(\"Hello, Bootcamp!\")"
   ]
  },
  {
   "cell_type": "code",
   "execution_count": null,
   "id": "eeff6e08-c2a9-4672-82f6-36c0047fbe05",
   "metadata": {},
   "outputs": [],
   "source": []
  },
  {
   "cell_type": "code",
   "execution_count": null,
   "id": "89a8f6f1-0a8e-4f9a-873d-9a2fd42d0274",
   "metadata": {},
   "outputs": [],
   "source": []
  }
 ],
 "metadata": {
  "kernelspec": {
   "display_name": "Python 3 (ipykernel)",
   "language": "python",
   "name": "python3"
  },
  "language_info": {
   "codemirror_mode": {
    "name": "ipython",
    "version": 3
   },
   "file_extension": ".py",
   "mimetype": "text/x-python",
   "name": "python",
   "nbconvert_exporter": "python",
   "pygments_lexer": "ipython3",
   "version": "3.13.5"
  }
 },
 "nbformat": 4,
 "nbformat_minor": 5
}
