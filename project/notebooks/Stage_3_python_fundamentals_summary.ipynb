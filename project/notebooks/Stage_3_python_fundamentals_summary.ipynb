{
 "cells": [
  {
   "cell_type": "code",
   "execution_count": null,
   "id": "d46fd892-3d6c-40c5-9e80-1d12600ade12",
   "metadata": {},
   "outputs": [
    {
     "name": "stdout",
     "output_type": "stream",
     "text": [
      "Current working directory: D:\\文心远\\研究生\\5040-Bootcamp\\project\n"
     ]
    }
   ],
   "source": [
    "import os\n",
    "from pathlib import Path\n",
    "import sys\n",
    "\n",
    "project_root = Path(\"D:/文心远/研究生/5040-Bootcamp/project\").resolve()\n",
    "os.chdir(project_root)\n",
    "sys.path.append(str(project_root))\n",
    "\n",
    "print(\"Current working directory:\", Path().resolve())\n",
    "\n",
    "from src.utils import calc_mean_std_logged"
   ]
  },
  {
   "cell_type": "code",
   "execution_count": null,
   "id": "77443436-5d77-4d0f-b0df-7127d08fc58e",
   "metadata": {},
   "outputs": [],
   "source": [
    "import numpy as np\n",
    "import pandas as pd\n",
    "import matplotlib.pyplot as plt\n",
    "from datetime import datetime"
   ]
  },
  {
   "cell_type": "markdown",
   "id": "e1944b8f-6d12-47fd-ae72-ed028314c4a1",
   "metadata": {},
   "source": [
    "Data Structure"
   ]
  },
  {
   "cell_type": "code",
   "execution_count": null,
   "id": "62873198-81d9-4e9e-92a2-9623021ecf82",
   "metadata": {},
   "outputs": [
    {
     "name": "stdout",
     "output_type": "stream",
     "text": [
      "<class 'list'> <class 'numpy.ndarray'> <class 'pandas.core.series.Series'> <class 'pandas.core.frame.DataFrame'>\n"
     ]
    }
   ],
   "source": [
    "lst = [1, 2, 3]\n",
    "arr = np.array(lst)\n",
    "ser = pd.Series(lst)\n",
    "df = pd.DataFrame({'col1': lst, 'col2': [4,5,6]})\n",
    "\n",
    "print(type(lst), type(arr), type(ser), type(df))"
   ]
  },
  {
   "cell_type": "code",
   "execution_count": null,
   "id": "b43e1210-21d6-43d8-bd7e-08e08cd67e18",
   "metadata": {},
   "outputs": [
    {
     "name": "stdout",
     "output_type": "stream",
     "text": [
      "Mean and Std using logged function:\n",
      "Function calc_mean_std_logged called at 2025-08-20 19:33:27.708668\n"
     ]
    },
    {
     "data": {
      "text/plain": [
       "(np.float64(3.0), np.float64(1.4142135623730951))"
      ]
     },
     "execution_count": 5,
     "metadata": {},
     "output_type": "execute_result"
    }
   ],
   "source": [
    "print(\"Mean and Std using logged function:\")\n",
    "calc_mean_std_logged([1, 2, 3, 4, 5])"
   ]
  },
  {
   "cell_type": "markdown",
   "id": "ee78db61-d1b8-4370-ac48-b24ca035fbe4",
   "metadata": {},
   "source": [
    "Pandas Basics"
   ]
  },
  {
   "cell_type": "code",
   "execution_count": null,
   "id": "2943f10c-52e6-4dc4-bf41-943ec55e6a96",
   "metadata": {},
   "outputs": [
    {
     "name": "stdout",
     "output_type": "stream",
     "text": [
      "\n",
      "Toy DataFrame:\n",
      "  category  value\n",
      "0        A     10\n",
      "1        B     20\n",
      "2        A     15\n",
      "3        C     25\n",
      "4        B     30\n",
      "<class 'pandas.core.frame.DataFrame'>\n",
      "RangeIndex: 5 entries, 0 to 4\n",
      "Data columns (total 2 columns):\n",
      " #   Column    Non-Null Count  Dtype \n",
      "---  ------    --------------  ----- \n",
      " 0   category  5 non-null      object\n",
      " 1   value     5 non-null      int64 \n",
      "dtypes: int64(1), object(1)\n",
      "memory usage: 212.0+ bytes\n",
      "None\n",
      "\n",
      "Grouped summary:\n",
      "  category  value\n",
      "0        A   12.5\n",
      "1        B   25.0\n",
      "2        C   25.0\n"
     ]
    },
    {
     "data": {
      "text/plain": [
       "<Axes: >"
      ]
     },
     "execution_count": 6,
     "metadata": {},
     "output_type": "execute_result"
    },
    {
     "data": {
      "image/png": "[encoded data removed]",
      "text/plain": [
       "<Figure size 640x480 with 1 Axes>"
      ]
     },
     "metadata": {},
     "output_type": "display_data"
    }
   ],
   "source": [
    "df = pd.DataFrame({\n",
    "    'category': ['A', 'B', 'A', 'C', 'B'],\n",
    "    'value': [10, 20, 15, 25, 30]\n",
    "})\n",
    "\n",
    "print(\"\\nToy DataFrame:\")\n",
    "print(df.head())\n",
    "print(df.info())\n",
    "\n",
    "# Group by category and calculate mean\n",
    "summary = df.groupby('category').mean(numeric_only=True).reset_index()\n",
    "print(\"\\nGrouped summary:\")\n",
    "print(summary)\n",
    "\n",
    "df['value'].hist()\n"
   ]
  },
  {
   "cell_type": "markdown",
   "id": "1a3e9356-0c0e-4916-b551-2f51ab35c14e",
   "metadata": {},
   "source": [
    "# Python Fundamentals Utility Functions Documentation\n",
    "\n",
    "## `calc_mean_std(lst)`\n",
    "**Purpose:**  \n",
    "- Calculates the mean and standard deviation of a list of numbers.  \n",
    "\n",
    "**Inputs:**  \n",
    "- `lst`: List or array-like object containing numeric values.  \n",
    "\n",
    "**Outputs:**  \n",
    "- Tuple `(mean, std)` of the input numbers.  \n",
    "\n",
    "**Future Use:**  \n",
    "- Can be used in data preprocessing for summarizing numeric features.\n",
    "- Useful for exploratory data analysis (EDA) to quickly compute descriptive statistics.\n",
    "\n",
    "---\n",
    "\n",
    "## `log_call(func)`\n",
    "**Purpose:**  \n",
    "- Decorator function that prints a log message whenever the decorated function is called, including a timestamp.  \n",
    "\n",
    "**Inputs:**  \n",
    "- `func`: Any callable function to wrap.  \n",
    "\n",
    "**Outputs:**  \n",
    "- Returns a wrapped version of the original function that prints a log before executing.  \n",
    "\n",
    "**Future Use:**  \n",
    "- Helps with debugging and tracking function usage in larger pipelines.\n",
    "- Can be applied to any utility function or model evaluation function to monitor execution time and calls.\n",
    "\n",
    "---\n",
    "\n",
    "## `calc_mean_std_logged(lst)`\n",
    "**Purpose:**  \n",
    "- Combines `calc_mean_std` with `log_call` to calculate statistics while logging function calls.  \n",
    "\n",
    "**Inputs:**  \n",
    "- `lst`: List or array-like object containing numeric values.  \n",
    "\n",
    "**Outputs:**  \n",
    "- Tuple `(mean, std)` with a printed log of the call timestamp.  \n",
    "\n",
    "**Future Use:**  \n",
    "- Can be used in preprocessing or analysis pipelines where both summary statistics and execution tracking are required.\n",
    "- Demonstrates how decorators can add reusable functionality to utility functions."
   ]
  },
  {
   "cell_type": "code",
   "execution_count": null,
   "id": "d385f428-e3d9-4748-a6e7-bae06e795fa3",
   "metadata": {},
   "outputs": [],
   "source": []
  }
 ],
 "metadata": {
  "kernelspec": {
   "display_name": "Python (fe-course)",
   "language": "python",
   "name": "fe-course"
  },
  "language_info": {
   "codemirror_mode": {
    "name": "ipython",
    "version": 3
   },
   "file_extension": ".py",
   "mimetype": "text/x-python",
   "name": "python",
   "nbconvert_exporter": "python",
   "pygments_lexer": "ipython3",
   "version": "3.13.5"
  }
 },
 "nbformat": 4,
 "nbformat_minor": 5
}
