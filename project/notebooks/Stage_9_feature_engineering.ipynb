{
 "cells": [
  {
   "cell_type": "code",
   "execution_count": 1,
   "id": "a6c8ebd1",
   "metadata": {},
   "outputs": [],
   "source": [
    "from pathlib import Path\n",
    "import pandas as pd\n",
    "import numpy as np\n",
    "\n",
    "PROJECT_ROOT = Path().resolve().parent\n",
    "DATA_DIR = PROJECT_ROOT / \"data\" / \"processed\"\n",
    "df = pd.read_csv(DATA_DIR / \"MSFT_preprocessed.csv\", parse_dates=[\"date\"])\n",
    "df = df.sort_values(\"date\")"
   ]
  },
  {
   "cell_type": "code",
   "execution_count": 2,
   "id": "7e6607bf",
   "metadata": {},
   "outputs": [],
   "source": [
    "def create_stock_features(df):\n",
    "    \"\"\"\n",
    "    Feature engineering for stock prediction.\n",
    "    Features included:\n",
    "    1. Daily return\n",
    "    2. Log return\n",
    "    3. Rolling volatility\n",
    "    4. Moving averages (5, 20)\n",
    "    5. MA spread\n",
    "    6. Volume rolling mean\n",
    "    7. High-Low spread\n",
    "    8. Close-Open difference\n",
    "    9. RSI (14-day)\n",
    "    10. Momentum (5-day)\n",
    "    13. Log volume\n",
    "    14. RSI moving average (5-day trend)\n",
    "    \"\"\"\n",
    "\n",
    "    # 1. Daily return\n",
    "    df['daily_return'] = df['close'].pct_change().fillna(0)\n",
    "\n",
    "    # 2. Log return\n",
    "    df['log_return'] = np.log(df['close'] / df['close'].shift(1)).fillna(0)\n",
    "\n",
    "    # 3. Rolling volatility (5-day)\n",
    "    df['volatility_5d'] = df['daily_return'].rolling(5).std().fillna(0)\n",
    "\n",
    "    # 4. Moving averages (5, 20)\n",
    "    df['ma_5'] = df['close'].rolling(5).mean().fillna(df['close'])\n",
    "    df['ma_20'] = df['close'].rolling(20).mean().fillna(df['close'])\n",
    "\n",
    "    # 5. MA spread\n",
    "    df['ma_spread'] = df['ma_5'] - df['ma_20']\n",
    "\n",
    "    # 6. Volume rolling mean (5-day)\n",
    "    df['vol_mean_5'] = df['volume'].rolling(5).mean().fillna(df['volume'])\n",
    "\n",
    "    # 7. High-Low spread\n",
    "    df['hl_spread'] = df['high'] - df['low']\n",
    "\n",
    "    # 8. Close-Open difference\n",
    "    df['co_diff'] = df['close'] - df['open']\n",
    "\n",
    "    # 9. RSI (Relative Strength Index, 14-day)\n",
    "    window = 14\n",
    "    delta = df['close'].diff()\n",
    "    gain = np.where(delta > 0, delta, 0)\n",
    "    loss = np.where(delta < 0, -delta, 0)\n",
    "    roll_up = pd.Series(gain).rolling(window).mean()\n",
    "    roll_down = pd.Series(loss).rolling(window).mean()\n",
    "    rs = roll_up / roll_down\n",
    "    df['rsi'] = 100 - (100 / (1 + rs))\n",
    "    df['rsi'] = df['rsi'].fillna(50)\n",
    "\n",
    "    # 10. Momentum (5-day)\n",
    "    df['momentum_5'] = df['close'] - df['close'].shift(5)\n",
    "    df['momentum_5'] = df['momentum_5'].fillna(0)\n",
    "\n",
    "    # 11. Log volume\n",
    "    df['log_volume'] = np.log(df['vol_mean_5'] + 1)\n",
    "\n",
    "    # 12. RSI moving average (5-day trend of RSI)\n",
    "    df['rsi_ma5'] = df['rsi'].rolling(5).mean()\n",
    "\n",
    "    return df\n",
    "\n"
   ]
  },
  {
   "cell_type": "code",
   "execution_count": 3,
   "id": "40f68188",
   "metadata": {},
   "outputs": [
    {
     "name": "stdout",
     "output_type": "stream",
     "text": [
      "Stage9 features saved to D:\\文心远\\研究生\\5040-Bootcamp\\project\\data\\processed\n"
     ]
    },
    {
     "name": "stderr",
     "output_type": "stream",
     "text": [
      "d:\\Software\\Miniconda3\\envs\\fe-course\\Lib\\site-packages\\pandas\\core\\arraylike.py:399: RuntimeWarning: divide by zero encountered in log\n",
      "  result = getattr(ufunc, method)(*inputs, **kwargs)\n"
     ]
    }
   ],
   "source": [
    "df_features = create_stock_features(df)\n",
    "\n",
    "df_features.to_csv(DATA_DIR / 'MSFT_features.csv', index=False, encoding=\"utf-8-sig\")\n",
    "\n",
    "print(f\"Stage9 features saved to {DATA_DIR}\")"
   ]
  }
 ],
 "metadata": {
  "kernelspec": {
   "display_name": "fe-course",
   "language": "python",
   "name": "python3"
  },
  "language_info": {
   "codemirror_mode": {
    "name": "ipython",
    "version": 3
   },
   "file_extension": ".py",
   "mimetype": "text/x-python",
   "name": "python",
   "nbconvert_exporter": "python",
   "pygments_lexer": "ipython3",
   "version": "3.13.5"
  }
 },
 "nbformat": 4,
 "nbformat_minor": 5
}
