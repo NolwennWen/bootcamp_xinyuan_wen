{
 "cells": [
  {
   "cell_type": "code",
   "execution_count": 9,
   "id": "3813db9b-933c-4d65-8129-7983906adb18",
   "metadata": {},
   "outputs": [
    {
     "name": "stdout",
     "output_type": "stream",
     "text": [
      "RAW_DIR: D:\\文心远\\研究生\\5040-Bootcamp\\project\\data\\raw\n",
      "PROC_DIR: D:\\文心远\\研究生\\5040-Bootcamp\\project\\data\\processed\n"
     ]
    }
   ],
   "source": [
    "import os, pathlib\n",
    "import pandas as pd\n",
    "from dotenv import load_dotenv\n",
    "\n",
    "import sys\n",
    "sys.path.append(\"..\")\n",
    "from src.cleaning import preprocess_df\n",
    "\n",
    "\n",
    "\n",
    "PROJECT_ROOT = pathlib.Path().resolve().parent\n",
    "load_dotenv(PROJECT_ROOT / \".env\")\n",
    "\n",
    "RAW_DIR = PROJECT_ROOT / os.getenv(\"DATA_DIR_RAW\")\n",
    "PROC_DIR = PROJECT_ROOT / os.getenv(\"DATA_DIR_PROCESSED\")\n",
    "RAW_DIR.mkdir(parents=True, exist_ok=True)\n",
    "PROC_DIR.mkdir(parents=True, exist_ok=True)\n",
    "\n",
    "print(\"RAW_DIR:\", RAW_DIR)\n",
    "print(\"PROC_DIR:\", PROC_DIR)"
   ]
  },
  {
   "cell_type": "code",
   "execution_count": 10,
   "id": "6786399c-a64a-4b87-b076-82a991760910",
   "metadata": {},
   "outputs": [
    {
     "name": "stdout",
     "output_type": "stream",
     "text": [
      "Stage4 CSV files found: ['api_source-yfinance_symbol-MSFT_20250821-215314.csv']\n",
      "Loaded Stage4 CSV: D:\\文心远\\研究生\\5040-Bootcamp\\project\\data\\raw\\api_source-yfinance_symbol-MSFT_20250821-215314.csv\n",
      "        date        open        high         low       close   adj_close  \\\n",
      "0 2025-02-24  408.510010  409.369995  399.320007  404.000000  403.259674   \n",
      "1 2025-02-25  401.100006  401.920013  396.700012  397.899994  397.170837   \n",
      "2 2025-02-26  398.010010  403.600006  394.250000  399.730011  398.997498   \n",
      "3 2025-02-27  401.269989  405.739990  392.170013  392.529999  391.810699   \n",
      "4 2025-02-28  392.660004  397.630005  386.570007  396.989990  396.262512   \n",
      "\n",
      "     volume  \n",
      "0  26443700  \n",
      "1  29387400  \n",
      "2  19619000  \n",
      "3  21127400  \n",
      "4  32845700  \n"
     ]
    }
   ],
   "source": [
    "csv_files = sorted(RAW_DIR.glob(\"api_source-yfinance_symbol-MSFT_*.csv\"))\n",
    "print(\"Stage4 CSV files found:\", [f.name for f in csv_files])\n",
    "\n",
    "latest_csv = csv_files[-1]\n",
    "df_raw = pd.read_csv(latest_csv, parse_dates=['date'])\n",
    "print(\"Loaded Stage4 CSV:\", latest_csv)\n",
    "print(df_raw.head())"
   ]
  },
  {
   "cell_type": "markdown",
   "id": "e6e3a358-bbbe-4fe4-b63f-085173bb74cc",
   "metadata": {},
   "source": [
    "Cleaning"
   ]
  },
  {
   "cell_type": "code",
   "execution_count": 11,
   "id": "a5c850bb-eb18-4208-99d8-89c41a579a00",
   "metadata": {},
   "outputs": [
    {
     "name": "stdout",
     "output_type": "stream",
     "text": [
      "<class 'pandas.core.frame.DataFrame'>\n",
      "RangeIndex: 125 entries, 0 to 124\n",
      "Data columns (total 7 columns):\n",
      " #   Column     Non-Null Count  Dtype         \n",
      "---  ------     --------------  -----         \n",
      " 0   date       125 non-null    datetime64[ns]\n",
      " 1   open       125 non-null    float64       \n",
      " 2   high       125 non-null    float64       \n",
      " 3   low        125 non-null    float64       \n",
      " 4   close      125 non-null    float64       \n",
      " 5   adj_close  125 non-null    float64       \n",
      " 6   volume     125 non-null    float64       \n",
      "dtypes: datetime64[ns](1), float64(6)\n",
      "memory usage: 7.0 KB\n"
     ]
    },
    {
     "data": {
      "text/html": [
       "<div>\n",
       "<style scoped>\n",
       "    .dataframe tbody tr th:only-of-type {\n",
       "        vertical-align: middle;\n",
       "    }\n",
       "\n",
       "    .dataframe tbody tr th {\n",
       "        vertical-align: top;\n",
       "    }\n",
       "\n",
       "    .dataframe thead th {\n",
       "        text-align: right;\n",
       "    }\n",
       "</style>\n",
       "<table border=\"1\" class=\"dataframe\">\n",
       "  <thead>\n",
       "    <tr style=\"text-align: right;\">\n",
       "      <th></th>\n",
       "      <th>date</th>\n",
       "      <th>open</th>\n",
       "      <th>high</th>\n",
       "      <th>low</th>\n",
       "      <th>close</th>\n",
       "      <th>adj_close</th>\n",
       "      <th>volume</th>\n",
       "    </tr>\n",
       "  </thead>\n",
       "  <tbody>\n",
       "    <tr>\n",
       "      <th>0</th>\n",
       "      <td>2025-02-24</td>\n",
       "      <td>0.282016</td>\n",
       "      <td>0.235063</td>\n",
       "      <td>0.291433</td>\n",
       "      <td>0.273028</td>\n",
       "      <td>0.271554</td>\n",
       "      <td>0.309973</td>\n",
       "    </tr>\n",
       "    <tr>\n",
       "      <th>1</th>\n",
       "      <td>2025-02-25</td>\n",
       "      <td>0.245755</td>\n",
       "      <td>0.196052</td>\n",
       "      <td>0.277430</td>\n",
       "      <td>0.239342</td>\n",
       "      <td>0.238049</td>\n",
       "      <td>0.372483</td>\n",
       "    </tr>\n",
       "    <tr>\n",
       "      <th>2</th>\n",
       "      <td>2025-02-26</td>\n",
       "      <td>0.230634</td>\n",
       "      <td>0.204849</td>\n",
       "      <td>0.264336</td>\n",
       "      <td>0.249448</td>\n",
       "      <td>0.248100</td>\n",
       "      <td>0.165049</td>\n",
       "    </tr>\n",
       "    <tr>\n",
       "      <th>3</th>\n",
       "      <td>2025-02-27</td>\n",
       "      <td>0.246587</td>\n",
       "      <td>0.216055</td>\n",
       "      <td>0.253220</td>\n",
       "      <td>0.209686</td>\n",
       "      <td>0.208554</td>\n",
       "      <td>0.197080</td>\n",
       "    </tr>\n",
       "    <tr>\n",
       "      <th>4</th>\n",
       "      <td>2025-02-28</td>\n",
       "      <td>0.204453</td>\n",
       "      <td>0.173587</td>\n",
       "      <td>0.223291</td>\n",
       "      <td>0.234316</td>\n",
       "      <td>0.233051</td>\n",
       "      <td>0.445921</td>\n",
       "    </tr>\n",
       "  </tbody>\n",
       "</table>\n",
       "</div>"
      ],
      "text/plain": [
       "        date      open      high       low     close  adj_close    volume\n",
       "0 2025-02-24  0.282016  0.235063  0.291433  0.273028   0.271554  0.309973\n",
       "1 2025-02-25  0.245755  0.196052  0.277430  0.239342   0.238049  0.372483\n",
       "2 2025-02-26  0.230634  0.204849  0.264336  0.249448   0.248100  0.165049\n",
       "3 2025-02-27  0.246587  0.216055  0.253220  0.209686   0.208554  0.197080\n",
       "4 2025-02-28  0.204453  0.173587  0.223291  0.234316   0.233051  0.445921"
      ]
     },
     "execution_count": 11,
     "metadata": {},
     "output_type": "execute_result"
    }
   ],
   "source": [
    "df_cleaned = preprocess_df(df_raw)\n",
    "\n",
    "df_cleaned.info()\n",
    "df_cleaned.head()"
   ]
  },
  {
   "cell_type": "code",
   "execution_count": 12,
   "id": "7a662bca-5e4d-40a6-8a0d-de93d1a7fcdb",
   "metadata": {},
   "outputs": [
    {
     "name": "stdout",
     "output_type": "stream",
     "text": [
      "Saved cleaned data: D:\\文心远\\研究生\\5040-Bootcamp\\project\\data\\processed\\MSFT_preprocessed.csv\n"
     ]
    }
   ],
   "source": [
    "clean_csv_path = PROC_DIR / \"MSFT_preprocessed.csv\"\n",
    "df_cleaned.to_csv(clean_csv_path, index=False)\n",
    "print(\"Saved cleaned data:\", clean_csv_path)"
   ]
  }
 ],
 "metadata": {
  "kernelspec": {
   "display_name": "fe-course",
   "language": "python",
   "name": "python3"
  },
  "language_info": {
   "codemirror_mode": {
    "name": "ipython",
    "version": 3
   },
   "file_extension": ".py",
   "mimetype": "text/x-python",
   "name": "python",
   "nbconvert_exporter": "python",
   "pygments_lexer": "ipython3",
   "version": "3.13.5"
  }
 },
 "nbformat": 4,
 "nbformat_minor": 5
}
