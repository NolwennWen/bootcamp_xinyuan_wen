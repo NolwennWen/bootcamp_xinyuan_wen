{
 "cells": [
  {
   "cell_type": "code",
   "execution_count": 3,
   "id": "3813db9b-933c-4d65-8129-7983906adb18",
   "metadata": {},
   "outputs": [],
   "source": [
    "import os, pathlib\n",
    "import pandas as pd\n",
    "from dotenv import load_dotenv\n",
    "from src.cleaning import preprocess_df\n",
    "\n",
    "\n",
    "\n",
    "load_dotenv()\n",
    "RAW_DIR = pathlib.Path(os.getenv(\"DATA_DIR_RAW\", \"d:/文心远/研究生/5040-Bootcamp/project/data/raw\"))\n",
    "PROC_DIR = pathlib.Path(os.getenv(\"DATA_DIR_PROCESSED\", \"d:/文心远/研究生/5040-Bootcamp/project/data/processed\"))\n",
    "RAW_DIR.mkdir(parents=True, exist_ok=True)\n",
    "PROC_DIR.mkdir(parents=True, exist_ok=True)"
   ]
  },
  {
   "cell_type": "code",
   "execution_count": 4,
   "id": "6786399c-a64a-4b87-b076-82a991760910",
   "metadata": {},
   "outputs": [],
   "source": [
    "csv_files = list(RAW_DIR.glob(\"api_source-yfinance_symbol-MSFT_20250820-200354.csv\"))\n",
    "df_raw = pd.read_csv(csv_files[-1], parse_dates=['date']) "
   ]
  },
  {
   "cell_type": "markdown",
   "id": "e6e3a358-bbbe-4fe4-b63f-085173bb74cc",
   "metadata": {},
   "source": [
    "Cleaning"
   ]
  },
  {
   "cell_type": "code",
   "execution_count": 5,
   "id": "a5c850bb-eb18-4208-99d8-89c41a579a00",
   "metadata": {},
   "outputs": [
    {
     "name": "stdout",
     "output_type": "stream",
     "text": [
      "<class 'pandas.core.frame.DataFrame'>\n",
      "RangeIndex: 125 entries, 0 to 124\n",
      "Data columns (total 2 columns):\n",
      " #   Column     Non-Null Count  Dtype         \n",
      "---  ------     --------------  -----         \n",
      " 0   date       125 non-null    datetime64[ns]\n",
      " 1   adj_close  125 non-null    float64       \n",
      "dtypes: datetime64[ns](1), float64(1)\n",
      "memory usage: 2.1 KB\n"
     ]
    },
    {
     "data": {
      "text/html": [
       "<div>\n",
       "<style scoped>\n",
       "    .dataframe tbody tr th:only-of-type {\n",
       "        vertical-align: middle;\n",
       "    }\n",
       "\n",
       "    .dataframe tbody tr th {\n",
       "        vertical-align: top;\n",
       "    }\n",
       "\n",
       "    .dataframe thead th {\n",
       "        text-align: right;\n",
       "    }\n",
       "</style>\n",
       "<table border=\"1\" class=\"dataframe\">\n",
       "  <thead>\n",
       "    <tr style=\"text-align: right;\">\n",
       "      <th></th>\n",
       "      <th>date</th>\n",
       "      <th>adj_close</th>\n",
       "    </tr>\n",
       "  </thead>\n",
       "  <tbody>\n",
       "    <tr>\n",
       "      <th>0</th>\n",
       "      <td>2025-02-21</td>\n",
       "      <td>0.294678</td>\n",
       "    </tr>\n",
       "    <tr>\n",
       "      <th>1</th>\n",
       "      <td>2025-02-24</td>\n",
       "      <td>0.271554</td>\n",
       "    </tr>\n",
       "    <tr>\n",
       "      <th>2</th>\n",
       "      <td>2025-02-25</td>\n",
       "      <td>0.238049</td>\n",
       "    </tr>\n",
       "    <tr>\n",
       "      <th>3</th>\n",
       "      <td>2025-02-26</td>\n",
       "      <td>0.248100</td>\n",
       "    </tr>\n",
       "    <tr>\n",
       "      <th>4</th>\n",
       "      <td>2025-02-27</td>\n",
       "      <td>0.208554</td>\n",
       "    </tr>\n",
       "  </tbody>\n",
       "</table>\n",
       "</div>"
      ],
      "text/plain": [
       "        date  adj_close\n",
       "0 2025-02-21   0.294678\n",
       "1 2025-02-24   0.271554\n",
       "2 2025-02-25   0.238049\n",
       "3 2025-02-26   0.248100\n",
       "4 2025-02-27   0.208554"
      ]
     },
     "execution_count": 5,
     "metadata": {},
     "output_type": "execute_result"
    }
   ],
   "source": [
    "df_cleaned = preprocess_df(df_raw)\n",
    "\n",
    "df_cleaned.info()\n",
    "df_cleaned.head()"
   ]
  },
  {
   "cell_type": "code",
   "execution_count": 6,
   "id": "7a662bca-5e4d-40a6-8a0d-de93d1a7fcdb",
   "metadata": {},
   "outputs": [
    {
     "name": "stdout",
     "output_type": "stream",
     "text": [
      "Saved cleaned data: data\\processed\\MSFT_preprocessed.csv\n"
     ]
    }
   ],
   "source": [
    "clean_csv_path = PROC_DIR / \"MSFT_preprocessed.csv\"\n",
    "df_cleaned.to_csv(clean_csv_path, index=False)\n",
    "print(\"Saved cleaned data:\", clean_csv_path)"
   ]
  }
 ],
 "metadata": {
  "kernelspec": {
   "display_name": "Python (fe-course)",
   "language": "python",
   "name": "fe-course"
  },
  "language_info": {
   "codemirror_mode": {
    "name": "ipython",
    "version": 3
   },
   "file_extension": ".py",
   "mimetype": "text/x-python",
   "name": "python",
   "nbconvert_exporter": "python",
   "pygments_lexer": "ipython3",
   "version": "3.13.5"
  }
 },
 "nbformat": 4,
 "nbformat_minor": 5
}
