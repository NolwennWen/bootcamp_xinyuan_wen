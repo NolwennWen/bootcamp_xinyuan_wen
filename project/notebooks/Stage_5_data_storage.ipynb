{
 "cells": [
  {
   "cell_type": "code",
   "execution_count": 125,
   "id": "b43e1210-21d6-43d8-bd7e-08e08cd67e18",
   "metadata": {},
   "outputs": [],
   "source": [
    "import os, pathlib, datetime as dt\n",
    "import pandas as pd\n",
    "from dotenv import load_dotenv\n",
    "from typing import Union"
   ]
  },
  {
   "cell_type": "code",
   "execution_count": 126,
   "id": "c74ed8ff-6e9c-437f-88ab-671b68fb5b64",
   "metadata": {},
   "outputs": [
    {
     "name": "stdout",
     "output_type": "stream",
     "text": [
      "RAW_DIR: D:\\文心远\\研究生\\5040-Bootcamp\\project\\data\\raw\n",
      "PROC_DIR: D:\\文心远\\研究生\\5040-Bootcamp\\project\\data\\processed\n"
     ]
    }
   ],
   "source": [
    "PROJECT_ROOT = pathlib.Path().resolve().parent\n",
    "load_dotenv(PROJECT_ROOT / \".env\")\n",
    "\n",
    "RAW_DIR = PROJECT_ROOT / os.getenv(\"DATA_DIR_RAW\")\n",
    "PROC_DIR = PROJECT_ROOT / os.getenv(\"DATA_DIR_PROCESSED\")\n",
    "RAW_DIR.mkdir(parents=True, exist_ok=True)\n",
    "PROC_DIR.mkdir(parents=True, exist_ok=True)\n",
    "\n",
    "print(\"RAW_DIR:\", RAW_DIR)\n",
    "print(\"PROC_DIR:\", PROC_DIR)"
   ]
  },
  {
   "cell_type": "code",
   "execution_count": 127,
   "id": "e9ed7fa9",
   "metadata": {},
   "outputs": [
    {
     "name": "stdout",
     "output_type": "stream",
     "text": [
      "Stage4 CSV files found: ['api_source-yfinance_symbol-MSFT_20250821-215314.csv']\n",
      "Loaded Stage4 CSV: D:\\文心远\\研究生\\5040-Bootcamp\\project\\data\\raw\\api_source-yfinance_symbol-MSFT_20250821-215314.csv\n",
      "        date        open        high         low       close   adj_close  \\\n",
      "0 2025-02-24  408.510010  409.369995  399.320007  404.000000  403.259674   \n",
      "1 2025-02-25  401.100006  401.920013  396.700012  397.899994  397.170837   \n",
      "2 2025-02-26  398.010010  403.600006  394.250000  399.730011  398.997498   \n",
      "3 2025-02-27  401.269989  405.739990  392.170013  392.529999  391.810699   \n",
      "4 2025-02-28  392.660004  397.630005  386.570007  396.989990  396.262512   \n",
      "\n",
      "     volume  \n",
      "0  26443700  \n",
      "1  29387400  \n",
      "2  19619000  \n",
      "3  21127400  \n",
      "4  32845700  \n"
     ]
    }
   ],
   "source": [
    "csv_files = sorted(RAW_DIR.glob(\"api_source-yfinance_symbol-MSFT_*.csv\"))\n",
    "print(\"Stage4 CSV files found:\", [f.name for f in csv_files])\n",
    "\n",
    "latest_csv = csv_files[-1]\n",
    "df_raw = pd.read_csv(latest_csv, parse_dates=['date'])\n",
    "print(\"Loaded Stage4 CSV:\", latest_csv)\n",
    "print(df_raw.head())"
   ]
  },
  {
   "cell_type": "code",
   "execution_count": 128,
   "id": "447ad91d-268f-4fac-bd29-24b08edf2d19",
   "metadata": {},
   "outputs": [],
   "source": [
    "def ensure_dir(path: pathlib.Path):\n",
    "    path.parent.mkdir(parents=True, exist_ok=True)\n",
    "\n",
    "def detect_format(path: Union[str, pathlib.Path]):\n",
    "    suf = str(path).lower()\n",
    "    if suf.endswith('.csv'): return 'csv'\n",
    "    if suf.endswith('.parquet') or suf.endswith('.pq') or suf.endswith('.parq'): return 'parquet'\n",
    "    raise ValueError('Unsupported format for: ' + str(path))\n",
    "\n",
    "def write_df(df: pd.DataFrame, path: Union[str, pathlib.Path]):\n",
    "    path = pathlib.Path(path)\n",
    "    ensure_dir(path)\n",
    "    fmt = detect_format(path)\n",
    "    if fmt == 'csv':\n",
    "        df.to_csv(path, index=False)\n",
    "    elif fmt == 'parquet':\n",
    "        try:\n",
    "            df.to_parquet(path)\n",
    "        except Exception as e:\n",
    "            raise RuntimeError('Parquet engine not available. Install pyarrow or fastparquet.') from e\n",
    "    return path\n",
    "\n",
    "def read_df(path: Union[str, pathlib.Path]):\n",
    "    path = pathlib.Path(path)\n",
    "    fmt = detect_format(path)\n",
    "    if fmt == 'csv':\n",
    "        return pd.read_csv(path, parse_dates=['date']) if 'date' in pd.read_csv(path, nrows=0).columns else pd.read_csv(path)\n",
    "    elif fmt == 'parquet':\n",
    "        try:\n",
    "            return pd.read_parquet(path)\n",
    "        except Exception as e:\n",
    "            raise RuntimeError('Parquet engine not available. Install pyarrow or fastparquet.') from e\n"
   ]
  },
  {
   "cell_type": "markdown",
   "id": "7134dfd1-43cd-4066-aba0-1c0afa46c0ce",
   "metadata": {},
   "source": [
    "Save to CSV (raw)"
   ]
  },
  {
   "cell_type": "code",
   "execution_count": 129,
   "id": "597d259a-5899-4c42-8521-000db8c2cdaa",
   "metadata": {},
   "outputs": [
    {
     "name": "stdout",
     "output_type": "stream",
     "text": [
      "Saved CSV → D:\\文心远\\研究生\\5040-Bootcamp\\project\\data\\raw\\MSFT_raw_20250821-224835.csv\n"
     ]
    }
   ],
   "source": [
    "def ts():\n",
    "    return dt.datetime.now().strftime('%Y%m%d-%H%M%S')\n",
    "    \n",
    "csv_path = RAW_DIR / f\"MSFT_raw_{ts()}.csv\"\n",
    "write_df(df_raw, csv_path)\n",
    "print(\"Saved CSV →\", csv_path)\n"
   ]
  },
  {
   "cell_type": "markdown",
   "id": "bf50a497-248b-412e-8abc-2e99583e0100",
   "metadata": {},
   "source": [
    "Save to Parquet (processed)"
   ]
  },
  {
   "cell_type": "code",
   "execution_count": 130,
   "id": "28c21e70-0148-446c-85b3-01fa0fbe89a5",
   "metadata": {},
   "outputs": [
    {
     "name": "stdout",
     "output_type": "stream",
     "text": [
      "Saved Parquet → D:\\文心远\\研究生\\5040-Bootcamp\\project\\data\\processed\\prices_20250821-224835.parquet\n"
     ]
    }
   ],
   "source": [
    "parq_path = PROC_DIR / f\"prices_{ts()}.parquet\"\n",
    "try:\n",
    "    df_raw.to_parquet(parq_path)  # uses installed engine if available\n",
    "    print(\"Saved Parquet →\", parq_path)\n",
    "except Exception as e:\n",
    "    print(\"Parquet save failed (engine missing?). Skipping Parquet demo.\")\n",
    "    print(\"Error:\", e)"
   ]
  },
  {
   "cell_type": "markdown",
   "id": "fc4c716b-db92-4ed3-aa55-d7d6a123ab6a",
   "metadata": {},
   "source": [
    "Reload & Validate"
   ]
  },
  {
   "cell_type": "code",
   "execution_count": 131,
   "id": "d385f428-e3d9-4748-a6e7-bae06e795fa3",
   "metadata": {},
   "outputs": [
    {
     "name": "stdout",
     "output_type": "stream",
     "text": [
      "CSV validation: {'shape_equal': True, 'cols_present': True, 'adj_close_is_numeric': True, 'date_is_datetime': True}\n",
      "Parquet validation: {'shape_equal': True, 'cols_present': True, 'adj_close_is_numeric': True, 'date_is_datetime': True}\n"
     ]
    }
   ],
   "source": [
    "def validate_loaded(original: pd.DataFrame, reloaded: pd.DataFrame, cols=('date','adj_close')):\n",
    "    checks = {\n",
    "        'shape_equal': original.shape == reloaded.shape,\n",
    "        'cols_present': all(c in reloaded.columns for c in cols)\n",
    "    }\n",
    "    if 'adj_close' in reloaded.columns:\n",
    "        checks['adj_close_is_numeric'] = pd.api.types.is_numeric_dtype(reloaded['adj_close'])\n",
    "    if 'date' in reloaded.columns:\n",
    "        checks['date_is_datetime'] = pd.api.types.is_datetime64_any_dtype(reloaded['date'])\n",
    "    return checks\n",
    "\n",
    "df_csv = pd.read_csv(csv_path, parse_dates=['date'])\n",
    "print('CSV validation:', validate_loaded(df_api, df_csv))\n",
    "\n",
    "df_parq = pd.read_parquet(parq_path)\n",
    "print('Parquet validation:', validate_loaded(df_api, df_parq))"
   ]
  }
 ],
 "metadata": {
  "kernelspec": {
   "display_name": "fe-course",
   "language": "python",
   "name": "python3"
  },
  "language_info": {
   "codemirror_mode": {
    "name": "ipython",
    "version": 3
   },
   "file_extension": ".py",
   "mimetype": "text/x-python",
   "name": "python",
   "nbconvert_exporter": "python",
   "pygments_lexer": "ipython3",
   "version": "3.13.5"
  }
 },
 "nbformat": 4,
 "nbformat_minor": 5
}
