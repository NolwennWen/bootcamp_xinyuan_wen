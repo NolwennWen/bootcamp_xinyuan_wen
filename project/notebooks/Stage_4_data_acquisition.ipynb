{
 "cells": [
  {
   "cell_type": "code",
   "execution_count": 23,
   "id": "b43e1210-21d6-43d8-bd7e-08e08cd67e18",
   "metadata": {},
   "outputs": [
    {
     "data": {
      "text/plain": [
       "True"
      ]
     },
     "execution_count": 23,
     "metadata": {},
     "output_type": "execute_result"
    }
   ],
   "source": [
    "import os, json, time, datetime as dt, csv, pathlib\n",
    "from typing import Dict, List\n",
    "import requests\n",
    "import pandas as pd\n",
    "from bs4 import BeautifulSoup\n",
    "from dotenv import load_dotenv\n",
    "\n",
    "DATA_RAW = pathlib.Path(\"d:/文心远/研究生/5040-Bootcamp/project/data/raw\")\n",
    "DATA_RAW.mkdir(parents=True, exist_ok=True)\n",
    "\n",
    "load_dotenv()"
   ]
  },
  {
   "cell_type": "markdown",
   "id": "3bf88040-df16-42a5-837c-e26de90a5c55",
   "metadata": {},
   "source": [
    "Functions"
   ]
  },
  {
   "cell_type": "code",
   "execution_count": 24,
   "id": "d385f428-e3d9-4748-a6e7-bae06e795fa3",
   "metadata": {},
   "outputs": [],
   "source": [
    "def safe_stamp():\n",
    "    return dt.datetime.now().strftime(\"%Y%m%d-%H%M%S\")\n",
    "\n",
    "\n",
    "def safe_filename(prefix: str, meta: Dict[str, str]) -> str:\n",
    "    mid = \"_\".join([f\"{k}-{str(v).replace(' ', '-')[:20]}\" for k, v in meta.items()])\n",
    "    return f\"{prefix}_{mid}_{safe_stamp()}.csv\"\n",
    "\n",
    "\n",
    "def fetch_stock_data(ticker: str, start: str, end: str) -> pd.DataFrame:\n",
    "    import yfinance as yf\n",
    "    df = yf.download(ticker, start=start, end=end)\n",
    "    df = df.reset_index()\n",
    "    return df[['Date', 'Open', 'High', 'Low', 'Close', 'Adj Close', 'Volume']]\n",
    "\n",
    "\n",
    "def validate_df(df: pd.DataFrame, required_cols: List[str], dtypes_map: Dict[str, str]) -> Dict[str, str]:\n",
    "    msgs = {}\n",
    "    missing = [c for c in required_cols if c not in df.columns]\n",
    "    if missing:\n",
    "        msgs['missing_cols'] = f\"Missing columns: {missing}\"\n",
    "    for col, dtype in dtypes_map.items():\n",
    "        if col in df.columns:\n",
    "            try:\n",
    "                if dtype == 'datetime64[ns]':\n",
    "                    pd.to_datetime(df[col])\n",
    "                elif dtype == 'float':\n",
    "                    pd.to_numeric(df[col])\n",
    "            except Exception as e:\n",
    "                msgs[f'dtype_{col}'] = f\"Failed to coerce {col} to {dtype}: {e}\"\n",
    "    na_counts = df.isna().sum().sum()\n",
    "    msgs['na_total'] = f\"Total NA values: {na_counts}\"\n",
    "    return msgs"
   ]
  },
  {
   "cell_type": "markdown",
   "id": "754cce5c-1423-4ec8-a353-9915d5fec20b",
   "metadata": {},
   "source": [
    "API Ingestion"
   ]
  },
  {
   "cell_type": "code",
   "execution_count": 25,
   "id": "0c06ed6a-815d-437f-ae32-9d106ca3507d",
   "metadata": {},
   "outputs": [
    {
     "name": "stderr",
     "output_type": "stream",
     "text": [
      "[*********************100%***********************]  1 of 1 completed\n"
     ]
    }
   ],
   "source": [
    "SYMBOL = \"MSFT\"\n",
    "\n",
    "import yfinance as yf\n",
    "df_api = yf.download(SYMBOL, period=\"6mo\", interval=\"1d\", auto_adjust=False).reset_index()\n",
    "df_api = df_api[['Date', 'Open', 'High', 'Low', 'Close', 'Adj Close', 'Volume']]\n",
    "df_api.columns = ['date', 'open', 'high', 'low', 'close', 'adj_close', 'volume']\n",
    "\n",
    "df_api = df_api.sort_values('date').reset_index(drop=True)"
   ]
  },
  {
   "cell_type": "code",
   "execution_count": 26,
   "id": "fa1b93e9",
   "metadata": {},
   "outputs": [
    {
     "name": "stdout",
     "output_type": "stream",
     "text": [
      "Saved: d:\\文心远\\研究生\\5040-Bootcamp\\project\\data\\raw\\api_source-yfinance_symbol-MSFT_20250821-215314.csv\n"
     ]
    }
   ],
   "source": [
    "\n",
    "fname = safe_filename(prefix=\"api\", meta={\"source\": \"yfinance\", \"symbol\": SYMBOL})\n",
    "out_path = DATA_RAW / fname\n",
    "df_api.to_csv(out_path, index=False)\n",
    "print(\"Saved:\", out_path)"
   ]
  },
  {
   "cell_type": "code",
   "execution_count": 27,
   "id": "d9eaa126-e439-4a34-a66d-97450867d1a1",
   "metadata": {},
   "outputs": [
    {
     "name": "stdout",
     "output_type": "stream",
     "text": [
      "{'na_total': 'Total NA values: 0'}\n",
      "Saved Stage4 CSV: D:\\文心远\\研究生\\5040-Bootcamp\\project\\data\\raw\\api_source-yfinance_symbol-MSFT_20250821-215314.csv\n"
     ]
    }
   ],
   "source": [
    "msgs = validate_df(\n",
    "    df_api,\n",
    "    required_cols=['date', 'adj_close'],\n",
    "    dtypes_map={'date': 'datetime64[ns]', 'adj_close': 'float'}\n",
    ")\n",
    "print(msgs)\n",
    "\n",
    "PROJECT_ROOT = pathlib.Path().resolve().parent \n",
    "\n",
    "\n",
    "RAW_DIR = PROJECT_ROOT / \"data\" / \"raw\"\n",
    "RAW_DIR.mkdir(parents=True, exist_ok=True)\n",
    "\n",
    "ts = dt.datetime.now().strftime('%Y%m%d-%H%M%S')\n",
    "\n",
    "csv_path = RAW_DIR / f\"api_source-yfinance_symbol-{SYMBOL}_{ts}.csv\"\n",
    "df_api.to_csv(csv_path, index=False)\n",
    "print(\"Saved Stage4 CSV:\", csv_path)"
   ]
  }
 ],
 "metadata": {
  "kernelspec": {
   "display_name": "fe-course",
   "language": "python",
   "name": "python3"
  },
  "language_info": {
   "codemirror_mode": {
    "name": "ipython",
    "version": 3
   },
   "file_extension": ".py",
   "mimetype": "text/x-python",
   "name": "python",
   "nbconvert_exporter": "python",
   "pygments_lexer": "ipython3",
   "version": "3.13.5"
  }
 },
 "nbformat": 4,
 "nbformat_minor": 5
}
